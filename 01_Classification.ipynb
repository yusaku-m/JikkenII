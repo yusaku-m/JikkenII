{
 "cells": [
  {
   "cell_type": "markdown",
   "metadata": {},
   "source": [
    "データの取り扱い\n",
    "-----------------\n",
    "\n",
    "PyTorchではデータを取り扱う際に、基本的な要素が2つ存在します。\n",
    "\n",
    "``torch.utils.data.Dataset``と``torch.utils.data.DataLoader``です。\n",
    "\n",
    "<br>\n",
    "\n",
    "``Dataset`` は各ラベルと、それに対応するサンプルデータを保持します。\n",
    "\n",
    "``DataLoader`` は``Dataset``をイテレーティブに（＝反復処理可能に）操作できるようラップしたものになります。\n",
    "\n",
    "<br>\n",
    "\n",
    "（詳細）\n",
    "https://pytorch.org/docs/stable/data.html\n",
    "\n",
    "\n",
    "\n"
   ]
  },
  {
   "cell_type": "code",
   "execution_count": null,
   "metadata": {},
   "outputs": [],
   "source": [
    "%matplotlib inline"
   ]
  },
  {
   "cell_type": "code",
   "execution_count": 1,
   "metadata": {},
   "outputs": [],
   "source": [
    "import torch\n",
    "from torch import nn\n",
    "from torch.utils.data import DataLoader\n",
    "from torchvision import datasets\n",
    "from torchvision.transforms import ToTensor, Lambda, Compose\n",
    "import matplotlib.pyplot as plt\n",
    "# numpyをインポート\n"
   ]
  },
  {
   "cell_type": "markdown",
   "metadata": {},
   "source": [
    "``torchvision.datasets`` モジュールには、画像データの ``Dataset`` オブジェクトがたくさん用意されています。\n",
    "\n",
    "例えば、CIFAR, COCOなどです ([データセット一覧はこちらから](https://pytorch.org/docs/stable/torchvision/datasets.html))。\n",
    "\n",
    "本チュートリアルでは、FashionMNISTデータセットを使用します。"
   ]
  },
  {
   "cell_type": "code",
   "execution_count": 2,
   "metadata": {},
   "outputs": [],
   "source": [
    "# 訓練データをdatasetsからダウンロード\n",
    "training_data = datasets.FashionMNIST(\n",
    "    root=\"data\",\n",
    "    train=True,\n",
    "    download=True,\n",
    "    transform=ToTensor(),\n",
    ")\n",
    "\n",
    "# テストデータをdatasetsからダウンロード\n",
    "test_data = datasets.FashionMNIST(\n",
    "    root=\"data\",\n",
    "    train=False,\n",
    "    download=True,\n",
    "    transform=ToTensor(),\n",
    ")"
   ]
  },
  {
   "cell_type": "code",
   "execution_count": 3,
   "metadata": {},
   "outputs": [
    {
     "data": {
      "text/plain": [
       "10000"
      ]
     },
     "execution_count": 3,
     "metadata": {},
     "output_type": "execute_result"
    }
   ],
   "source": [
    "len(test_data)"
   ]
  },
  {
   "cell_type": "code",
   "execution_count": 4,
   "metadata": {},
   "outputs": [
    {
     "name": "stdout",
     "output_type": "stream",
     "text": [
      "Shape of X [N, C, H, W]:  torch.Size([256, 1, 28, 28])\n",
      "Shape of y:  torch.Size([256]) torch.int64\n"
     ]
    }
   ],
   "source": [
    "batch_size = 256\n",
    "\n",
    "# データローダーの作成\n",
    "train_dataloader = DataLoader(training_data, batch_size=batch_size)\n",
    "test_dataloader = DataLoader(test_data, batch_size=batch_size)\n",
    "\n",
    "for X, y in test_dataloader:\n",
    "    print(\"Shape of X [N, C, H, W]: \", X.shape)\n",
    "    print(\"Shape of y: \", y.shape, y.dtype)\n",
    "    break"
   ]
  },
  {
   "cell_type": "markdown",
   "metadata": {},
   "source": [
    "モデルの構築\n",
    "------------------\n",
    "\n",
    "PyTorchでニューラルネットワークの形を定義する際には、[nn.Module](https://pytorch.org/docs/stable/generated/torch.nn.Module.html)を継承します。\n",
    "\n",
    "\n",
    "``__init__`` 関数で、ネットワークの各レイヤーを定義し、データの順伝搬を``forward`` 関数に定義します。\n",
    "\n",
    "なお処理を高速化するために、可能であればニューラルネットワークをGPU上へ移動させます。\n",
    "\n"
   ]
  },
  {
   "cell_type": "code",
   "execution_count": 5,
   "metadata": {},
   "outputs": [],
   "source": [
    "class ConvwithBatchNorm(nn.Module):\n",
    "    \"\"\"基本モデル用\"\"\"\n",
    "    def __init__(self, input_channels, output_channels, ks):\n",
    "        super().__init__()\n",
    "        self.conv = nn.Conv2d(input_channels, output_channels, ks, 1)\n",
    "        self.norm = nn.BatchNorm2d(output_channels)\n",
    "        self.relu = nn.ReLU()\n",
    "    \n",
    "    def forward(self, x):\n",
    "        x = self.conv(x)\n",
    "        x = self.norm(x)\n",
    "        x = self.relu(x)\n",
    "        return x    \n",
    "class ClassificationCNN(nn.Module):\n",
    "    def __init__(self, output_channel, input_channel = 1, channel_a = 4):\n",
    "        super().__init__()\n",
    "        self.c1 = ConvwithBatchNorm(input_channel,channel_a,3)\n",
    "        channel_b = channel_a * 2\n",
    "        self.c2 = ConvwithBatchNorm(channel_a,channel_b,3)\n",
    "        channel_c = channel_b * 2\n",
    "        self.c3 = ConvwithBatchNorm(channel_b,channel_c,3)\n",
    "        self.co = ConvwithBatchNorm(channel_c,output_channel,3)\n",
    "\n",
    "\n",
    "    def forward(self, x):\n",
    "        # xの次元が３次元なら０次元位置に次元を追加\n",
    "        if x.dim() == 3:\n",
    "            x = torch.unsqueeze(x,0)\n",
    "        x = self.c1(x)\n",
    "        x = self.c2(x)\n",
    "        x = self.c3(x)\n",
    "        x = self.co(x)\n",
    "        x = nn.AvgPool2d(x.size(2))(x)\n",
    "        x = torch.squeeze(x)\n",
    "        x = torch.nn.Softmax(0)(x)\n",
    "        return x\n"
   ]
  },
  {
   "cell_type": "code",
   "execution_count": 6,
   "metadata": {},
   "outputs": [
    {
     "name": "stdout",
     "output_type": "stream",
     "text": [
      "Using cpu device\n",
      "ClassificationCNN(\n",
      "  (c1): ConvwithBatchNorm(\n",
      "    (conv): Conv2d(1, 4, kernel_size=(3, 3), stride=(1, 1))\n",
      "    (norm): BatchNorm2d(4, eps=1e-05, momentum=0.1, affine=True, track_running_stats=True)\n",
      "    (relu): ReLU()\n",
      "  )\n",
      "  (c2): ConvwithBatchNorm(\n",
      "    (conv): Conv2d(4, 8, kernel_size=(3, 3), stride=(1, 1))\n",
      "    (norm): BatchNorm2d(8, eps=1e-05, momentum=0.1, affine=True, track_running_stats=True)\n",
      "    (relu): ReLU()\n",
      "  )\n",
      "  (c3): ConvwithBatchNorm(\n",
      "    (conv): Conv2d(8, 16, kernel_size=(3, 3), stride=(1, 1))\n",
      "    (norm): BatchNorm2d(16, eps=1e-05, momentum=0.1, affine=True, track_running_stats=True)\n",
      "    (relu): ReLU()\n",
      "  )\n",
      "  (co): ConvwithBatchNorm(\n",
      "    (conv): Conv2d(16, 10, kernel_size=(3, 3), stride=(1, 1))\n",
      "    (norm): BatchNorm2d(10, eps=1e-05, momentum=0.1, affine=True, track_running_stats=True)\n",
      "    (relu): ReLU()\n",
      "  )\n",
      ")\n"
     ]
    }
   ],
   "source": [
    "# 訓練に際して、可能であればGPU（cuda）を設定します。GPUが搭載されていない場合はCPUを使用します\n",
    "device = \"cuda\" if torch.cuda.is_available() else \"cpu\"\n",
    "print(\"Using {} device\".format(device))\n",
    "\n",
    "# modelを定義します\n",
    "class NeuralNetwork(nn.Module):\n",
    "    def __init__(self):\n",
    "        super(NeuralNetwork, self).__init__()\n",
    "        self.flatten = nn.Flatten()\n",
    "        self.linear_relu_stack = nn.Sequential(\n",
    "            nn.Linear(28*28, 512),\n",
    "            nn.ReLU(),\n",
    "            nn.Linear(512, 512),\n",
    "            nn.ReLU(),\n",
    "            nn.Linear(512, 10),\n",
    "            nn.ReLU()\n",
    "        )\n",
    "\n",
    "    def forward(self, x):\n",
    "        x = self.flatten(x)\n",
    "        logits = self.linear_relu_stack(x)\n",
    "        return logits\n",
    "\n",
    "model = NeuralNetwork().to(device)\n",
    "model = ClassificationCNN(10).to(device)\n",
    "train_loss = []; test_loss = []; total_epochs = 0\n",
    "print(model)"
   ]
  },
  {
   "cell_type": "markdown",
   "metadata": {},
   "source": [
    "モデルパラメータの最適化\n",
    "----------------------------------------\n",
    "\n",
    "ニューラルネットワークモデルを訓練するためには、\n",
    "\n",
    "損失関数：[loss function](<https://pytorch.org/docs/stable/nn.html#loss-functions)と、最適化手法：[optimizer](https://pytorch.org/docs/stable/optim.html)が必要です。\n",
    "\n"
   ]
  },
  {
   "cell_type": "code",
   "execution_count": 7,
   "metadata": {},
   "outputs": [],
   "source": [
    "loss_fn = nn.CrossEntropyLoss()\n",
    "optimizer = torch.optim.Adam(model.parameters(), lr=1e-3)\n",
    "#スケジューラーを入れる場合はここに記述\n",
    "#scheduler = torch.optim.lr_scheduler.ReduceLROnPlateau(optimizer, mode=\"min\", factor = 0.5, patience=5)"
   ]
  },
  {
   "cell_type": "markdown",
   "metadata": {},
   "source": [
    "1回の訓練ループにおいてモデルは、まず訓練データのバッチに対して推論を実行して損失誤差を計算し、\n",
    "\n",
    "その後、損失誤差をバックプロパゲーションして、モデルパラメータを更新します。"
   ]
  },
  {
   "cell_type": "code",
   "execution_count": 8,
   "metadata": {},
   "outputs": [],
   "source": [
    "def train(dataloader, model, loss_fn, optimizer):\n",
    "    size = len(dataloader.dataset)\n",
    "    model.train()\n",
    "    total_loss = 0\n",
    "    for batch, (X, y) in enumerate(dataloader):\n",
    "        X, y = X.to(device), y.to(device)\n",
    "        \n",
    "        # 損失誤差を計算\n",
    "        pred = model(X)\n",
    "        loss = loss_fn(pred, y)\n",
    "        \n",
    "        # バックプロパゲーション\n",
    "        optimizer.zero_grad()\n",
    "        loss.backward()\n",
    "        optimizer.step()\n",
    "\n",
    "        total_loss += loss.item()\n",
    "        \n",
    "    total_loss /= batch\n",
    "    #print(f\"loss: {total_loss:>7f} \")\n",
    "    \n",
    "    return total_loss"
   ]
  },
  {
   "cell_type": "markdown",
   "metadata": {},
   "source": [
    "また、モデルがうまく学習していることを確認するために、テストデータセットに対するモデルの性能も確認します。"
   ]
  },
  {
   "cell_type": "code",
   "execution_count": 9,
   "metadata": {},
   "outputs": [],
   "source": [
    "def test(dataloader, model):\n",
    "    size = len(dataloader.dataset)\n",
    "    model.eval()\n",
    "    test_loss, correct = 0, 0\n",
    "    with torch.no_grad():\n",
    "        for batch, (X, y) in enumerate(dataloader):\n",
    "            X, y = X.to(device), y.to(device)\n",
    "            pred = model(X)\n",
    "            test_loss += loss_fn(pred, y).item()\n",
    "            correct += (pred.argmax(1) == y).type(torch.float).sum().item()\n",
    "    test_loss /= batch\n",
    "    correct /= size\n",
    "    print(f\"Accuracy: {(100*correct):>0.1f}%, Avg loss: {test_loss:>8f}\")\n",
    "    \n",
    "    return test_loss, correct"
   ]
  },
  {
   "cell_type": "markdown",
   "metadata": {},
   "source": [
    "訓練プロセスでは複数イテレーションを実行します。\n",
    "\n",
    "各エポックの間、モデルはより良い予測ができるようにパラメータを学習します。\n",
    "\n",
    "エポックごとにモデルの正解率と損失を出力して、正解率が向上し、損失が低下していっているかを確認します。"
   ]
  },
  {
   "cell_type": "code",
   "execution_count": null,
   "metadata": {},
   "outputs": [
    {
     "name": "stdout",
     "output_type": "stream",
     "text": [
      "-------------------------------\n",
      "Epoch 1\n",
      "test_for_train:Accuracy: 55.9%, Avg loss: 2.304273\n",
      "test_for_test:Accuracy: 56.0%, Avg loss: 2.351585\n",
      "-------------------------------\n",
      "Epoch 2\n",
      "test_for_train:Accuracy: 53.9%, Avg loss: 2.299989\n",
      "test_for_test:Accuracy: 54.2%, Avg loss: 2.347256\n",
      "-------------------------------\n",
      "Epoch 3\n",
      "test_for_train:Accuracy: 48.4%, Avg loss: 2.295248\n",
      "test_for_test:Accuracy: 48.8%, Avg loss: 2.342184\n",
      "-------------------------------\n",
      "Epoch 4\n",
      "test_for_train:Accuracy: 45.9%, Avg loss: 2.293238\n",
      "test_for_test:Accuracy: 46.3%, Avg loss: 2.340229\n",
      "-------------------------------\n",
      "Epoch 5\n"
     ]
    }
   ],
   "source": [
    "epochs = 50\n",
    "total_epochs += epochs\n",
    "for t in range(epochs):\n",
    "    print(f\"-------------------------------\\nEpoch {t+1}\")\n",
    "    train(train_dataloader, model, loss_fn, optimizer)\n",
    "    print(\"test_for_train:\", end =\"\")\n",
    "    train_loss.append(test(train_dataloader, model))\n",
    "    print(\"test_for_test:\", end =\"\")\n",
    "    test_loss.append(test(test_dataloader, model))\n",
    "print(\"Done!\")"
   ]
  },
  {
   "cell_type": "code",
   "execution_count": null,
   "metadata": {},
   "outputs": [],
   "source": []
  },
  {
   "cell_type": "markdown",
   "metadata": {},
   "source": [
    "学習曲線の描画\n",
    "-------------\n",
    "\n",
    "エポック数に対する訓練データ，テストデータに対する正解率をプロット"
   ]
  },
  {
   "cell_type": "code",
   "execution_count": null,
   "metadata": {},
   "outputs": [],
   "source": [
    "train_losses = torch.tensor(train_loss)\n",
    "test_losses = torch.tensor(test_loss)\n",
    "plt.plot(range(1,total_epochs+1), train_losses[:,0], label=\"train\", color=\"black\", linestyle=\"dashed\")\n",
    "plt.plot(range(1,total_epochs+1), test_losses[:,0], label=\"test\", color=\"blue\")\n",
    "plt.xlabel(\"Epoch\")\n",
    "plt.ylabel(\"loss\")\n",
    "plt.legend()\n",
    "#plt.ylim(0,3)\n",
    "plt.show()\n",
    "\n",
    "plt.plot(range(1,total_epochs+1), train_losses[:,1]*100, label=\"train\", color=\"black\", linestyle=\"dashed\")\n",
    "plt.plot(range(1,total_epochs+1), test_losses[:,1]*100, label=\"test\", color=\"blue\")\n",
    "plt.xlabel(\"Epoch\")\n",
    "plt.ylabel(\"Accuracy [%]\")\n",
    "plt.legend()\n",
    "#plt.ylim(0,100)\n",
    "plt.show()\n"
   ]
  },
  {
   "cell_type": "markdown",
   "metadata": {},
   "source": [
    "モデルの保存\n",
    "-------------\n",
    "\n",
    "モデルを保存する一般的な方法は、モデルの内部状態の辞書（モデルのパラメータを含む）をシリアル化する手法です。\n"
   ]
  },
  {
   "cell_type": "code",
   "execution_count": null,
   "metadata": {},
   "outputs": [],
   "source": [
    "torch.save(model.state_dict(), \"model.pth\")\n",
    "print(\"Saved PyTorch Model State to model.pth\")\n"
   ]
  },
  {
   "cell_type": "markdown",
   "metadata": {},
   "source": [
    "モデルの読み込み\n",
    "----------------------------\n",
    "\n",
    "モデルの読み込む際には、まずモデルの構造を再作成し、そのインスタンスに、保存しておいた状態辞書をロードします。\n"
   ]
  },
  {
   "cell_type": "code",
   "execution_count": null,
   "metadata": {},
   "outputs": [],
   "source": [
    "model = NeuralNetwork()\n",
    "model = ClassificationCNN(10)\n",
    "model.load_state_dict(torch.load(\"model.pth\"))\n",
    "optimizer = torch.optim.Adam(model.parameters(), lr=1e-3)"
   ]
  },
  {
   "cell_type": "markdown",
   "metadata": {},
   "source": [
    "これでモデルは推論可能な状態です。"
   ]
  },
  {
   "cell_type": "code",
   "execution_count": null,
   "metadata": {},
   "outputs": [],
   "source": [
    "classes = [\n",
    "    \"T-shirt/top\",\n",
    "    \"Trouser\",\n",
    "    \"Pullover\",\n",
    "    \"Dress\",\n",
    "    \"Coat\",\n",
    "    \"Sandal\",\n",
    "    \"Shirt\",\n",
    "    \"Sneaker\",\n",
    "    \"Bag\",\n",
    "    \"Ankle boot\",\n",
    "]\n",
    "\n",
    "model.eval()\n",
    "x, y = test_data[0][0], test_data[0][1]\n",
    "with torch.no_grad():\n",
    "    pred = model(x)\n",
    "    predicted, actual = classes[pred[0].argmax(0)], classes[y]\n",
    "    print(f'Predicted: \"{predicted}\", Actual: \"{actual}\"')"
   ]
  },
  {
   "cell_type": "code",
   "execution_count": null,
   "metadata": {},
   "outputs": [],
   "source": [
    "\n",
    "cols, rows = 15, 15\n",
    "\n",
    "figure = plt.figure(figsize=(1.8 * cols, 1.8 * rows))\n",
    "x = []; y = []\n",
    "\n",
    "for i in range(rows):\n",
    "    for j in range(cols):\n",
    "        x.append(test_data[i*cols+j][0])\n",
    "        y.append(test_data[i*cols+j][1])\n",
    "\n",
    "x = torch.cat(x)\n",
    "y = torch.tensor(y)\n",
    "x = torch.unsqueeze(x,1)\n",
    "print(x.shape)\n",
    "\n",
    "with torch.no_grad():\n",
    "    model.eval()\n",
    "    pred = model(x)\n",
    "    print(pred.shape)\n",
    "\n",
    "for i in range(rows):\n",
    "    for j in range(cols):\n",
    "        predicted, actual = classes[pred[i*cols+j].argmax(0)], classes[y[i*cols+j]]\n",
    "        \n",
    "        figure.add_subplot(rows, cols, i*cols+j+1)\n",
    "        \n",
    "        plt.axis(\"off\")\n",
    "        if actual == predicted:\n",
    "            # 正解の場合白黒で表示\n",
    "            plt.title(f'T: \"{actual}\", P: \"{predicted}\"', fontsize=7)\n",
    "            plt.imshow(x[[i*cols+j]].squeeze(), cmap=\"gray\")\n",
    "        else:\n",
    "            # 不正解の場合赤く表示\n",
    "            plt.title(f'T: \"{actual}\", P: \"{predicted}\"', fontsize=7, color=\"red\")\n",
    "            plt.imshow(x[[i*cols+j]].squeeze(), cmap=\"Reds\")"
   ]
  },
  {
   "cell_type": "code",
   "execution_count": null,
   "metadata": {},
   "outputs": [],
   "source": [
    "type(test_data)"
   ]
  },
  {
   "cell_type": "code",
   "execution_count": null,
   "metadata": {},
   "outputs": [],
   "source": [
    "test(test_dataloader, model)"
   ]
  },
  {
   "cell_type": "markdown",
   "metadata": {},
   "source": [
    "混同行列\n",
    "-------------------\n",
    "表示する"
   ]
  },
  {
   "cell_type": "code",
   "execution_count": null,
   "metadata": {},
   "outputs": [],
   "source": []
  }
 ],
 "metadata": {
  "kernelspec": {
   "display_name": "default",
   "language": "python",
   "name": "python3"
  },
  "language_info": {
   "codemirror_mode": {
    "name": "ipython",
    "version": 3
   },
   "file_extension": ".py",
   "mimetype": "text/x-python",
   "name": "python",
   "nbconvert_exporter": "python",
   "pygments_lexer": "ipython3",
   "version": "3.13.2"
  }
 },
 "nbformat": 4,
 "nbformat_minor": 2
}
